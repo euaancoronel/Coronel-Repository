{
 "cells": [
  {
   "cell_type": "code",
   "execution_count": 1,
   "id": "61bfb165-c93a-43fc-a466-6056c3646afd",
   "metadata": {},
   "outputs": [],
   "source": [
    "#Problem 1\n",
    "#Factorial (1 point)\n",
    "#The factorial of a number is the product of that number and all the numbers below it. For example, 5 factorial (denoted 5! in math) is 5 4 3 2 1, which is 120.\n",
    "\n",
    "#Write a function called problem_1 that takes one positional argument number. The function should return the factorial of number as an integer.\n",
    "\n",
    "#Example input/output:\n",
    "#problem_1(5) => 120\n",
    "#problem_1(10) => 3628800"
   ]
  },
  {
   "cell_type": "code",
   "execution_count": 15,
   "id": "688c3eec-142c-457d-a1bd-de3a2d209d7a",
   "metadata": {},
   "outputs": [],
   "source": [
    "#Problem 1 Answer\n",
    "\n",
    "def problem_1(number):    \n",
    "    factorial = 1\n",
    "    for i in range(1, number + 1):\n",
    "        factorial = factorial*i       \n",
    "    return (factorial)"
   ]
  },
  {
   "cell_type": "code",
   "execution_count": 17,
   "id": "5a3d3407-b161-4511-9c59-dae40eca78b8",
   "metadata": {},
   "outputs": [
    {
     "data": {
      "text/plain": [
       "120"
      ]
     },
     "execution_count": 17,
     "metadata": {},
     "output_type": "execute_result"
    }
   ],
   "source": [
    "problem_1(5)"
   ]
  },
  {
   "cell_type": "code",
   "execution_count": 14,
   "id": "c1cab351-8e7e-44d8-94ec-e4af9c859e3c",
   "metadata": {},
   "outputs": [],
   "source": [
    "#Problem 2\n",
    "#Guessing Game (2 points)\n",
    "#Recall that we use input() to ask for user input.\n",
    "\n",
    "#Write a function called problem_2 that takes one positional argument passphrase. The function should ask the user to enter the passphrase with input(). If the user enters the correct passphrase, the function should return the integer 1. If the user enters the wrong passphrase, the function should keep asking them for the passphrase. If the user gets the passphrase wrong 3 times, the function should return the integer 0.\n",
    "\n",
    "#Example input/output:\n",
    "\n",
    "#Function input:\n",
    "#problem_2(\"chums\")\n",
    "#Simulated user input:\n",
    "#joben\n",
    "#chums\n",
    "#Output:\n",
    "#1\n",
    "\n",
    "#Function input:\n",
    "#problem_2(\"annika\")\n",
    "#Simulated user input:\n",
    "#joe\n",
    "#earl\n",
    "#niks\n",
    "#Output:\n",
    "#0"
   ]
  },
  {
   "cell_type": "code",
   "execution_count": 18,
   "id": "c6bd359e-a9b1-4bc8-b310-332a44c9ff45",
   "metadata": {},
   "outputs": [],
   "source": [
    "#Problem 2 Answer\n",
    "\n",
    "def problem_2(passphrase):\n",
    "    Counter = 0\n",
    "    while Counter < 3:\n",
    "        user_input = (input(\"Guess the Answer: \"))\n",
    "        if user_input == passphrase:\n",
    "            return (1)\n",
    "            break\n",
    "        else:\n",
    "            Counter = Counter + 1\n",
    "    else:\n",
    "        return (0)"
   ]
  },
  {
   "cell_type": "code",
   "execution_count": 19,
   "id": "d0cb0052-1ded-4544-af2a-e5a1aec3994c",
   "metadata": {},
   "outputs": [
    {
     "name": "stdin",
     "output_type": "stream",
     "text": [
      "Guess the Answer:  Jano\n",
      "Guess the Answer:  Mike\n",
      "Guess the Answer:  Euan\n"
     ]
    },
    {
     "data": {
      "text/plain": [
       "1"
      ]
     },
     "execution_count": 19,
     "metadata": {},
     "output_type": "execute_result"
    }
   ],
   "source": [
    "problem_2(\"Euan\")"
   ]
  },
  {
   "cell_type": "code",
   "execution_count": 97,
   "id": "8cb80a3e-aa88-49d5-bd76-eca9d7fd03f5",
   "metadata": {},
   "outputs": [],
   "source": [
    "#Problem 3\n",
    "#Temperature Converter (3 points)\n",
    "#A common beginner's exercise is to write a function that can convert a temperature value from one format, such as Fahrenheit, to another, such as Celsius.\n",
    "\n",
    "#In this problem, extend this idea to convert temperatures freely to and from any of the following formats: Celsius, Fahrenheit, and Kelvin.\n",
    "\n",
    "#Write a function called problem_3 that takes three positional arguments: (float) temp, (string) original_format, (string) new_format. The function should convert temp, which is represented in original_format, to its equivalent value in the new_format.\n",
    "\n",
    "#Example input/output:\n",
    "#problem_3(0.0, \"Celsius\", \"Fahrenheit\") => 32.0\n",
    "#problem_3(500.0, \"Kelvin\", \"Fahrenheit\") => 440.33\n",
    "#problem_3(273.0, \"Kelvin\", \"Celsius\") => 0.0"
   ]
  },
  {
   "cell_type": "code",
   "execution_count": 81,
   "id": "b296a526-022f-4aa7-a9d4-a33fad03f876",
   "metadata": {},
   "outputs": [],
   "source": [
    "#Problem 3 Answer\n",
    "\n",
    "def problem_3(temp, original_format, new_format):\n",
    "    \n",
    "    if original_format == \"Fahrenheit\":\n",
    "        if new_format == \"Celsius\":\n",
    "            result = ((temp) - 32) * (5/9)\n",
    "            return result\n",
    "        elif new_format == \"Kelvin\":\n",
    "                result = ((temp) - 32) * (5/9) + 273.15\n",
    "                return result\n",
    "    elif original_format == \"Celsius\":\n",
    "        if new_format == \"Fahrenheit\":\n",
    "            result = ((temp) * 9/5) + 32\n",
    "            return result\n",
    "        elif new_format == \"Kelvin\":\n",
    "                result = (temp) + 273.15\n",
    "                return result\n",
    "    elif original_format == \"Kelvin\":\n",
    "        if new_format == \"Fahrenheit\":\n",
    "            result = ((temp) - 273.15) * 9/5 + 32 \n",
    "            return result\n",
    "        elif new_format == \"Celsius\":\n",
    "            result = (temp) - 273.15\n",
    "            return result           "
   ]
  },
  {
   "cell_type": "code",
   "execution_count": 90,
   "id": "47b30c16-1327-4088-a4ff-45cb2717f0ca",
   "metadata": {},
   "outputs": [
    {
     "data": {
      "text/plain": [
       "-0.14999999999997726"
      ]
     },
     "execution_count": 90,
     "metadata": {},
     "output_type": "execute_result"
    }
   ],
   "source": [
    "problem_3(273.0, \"Kelvin\", \"Celsius\")"
   ]
  },
  {
   "cell_type": "code",
   "execution_count": 5,
   "id": "f798bc2c-d741-4b70-b3e9-f957ff57fa0c",
   "metadata": {},
   "outputs": [],
   "source": [
    "#Problem 4\n",
    "#Exact Change (4 points)\n",
    "#Part of a cashier's job is to give exact change to customers. It can be difficult to mentally tally how many coins of each type (i.e., 1 peso, 25 centavos, 10 centavos, etc.) to give to a customer.\n",
    "\n",
    "#Write a function called problem_4 that takes 1 positional argument amount in centavos. The function should return a string that describes the appropriate amounts of each type of coin to give to the customer. The string should be formatted as follows:\n",
    "\n",
    "#\"1P:{num}/25C:{num}/10C:{num}/5C:{num}/1C:{num}\"\n",
    "\n",
    "#Use the fewest number of total coins possible.\n",
    "\n",
    "#Example input/output:\n",
    "#problem_4(105) => \"1P:1/25C:0/10C:0/5C:1/1C:0\"\n",
    "#problem_4(69) => \"1P:0/25C:2/10C:1/5C:1/1C:4\""
   ]
  },
  {
   "cell_type": "code",
   "execution_count": 74,
   "id": "e267e1a7-4df3-4873-ba1e-44b4d89ceb39",
   "metadata": {},
   "outputs": [],
   "source": [
    "#Problem 4 Answer\n",
    "\n",
    "def problem_4(change):\n",
    "    \n",
    "    peso_coins = 0\n",
    "    quarter_coins = 0\n",
    "    dime_coins = 0\n",
    "    nickel_coins = 0\n",
    "    cent_coins = 0\n",
    "    \n",
    "    \n",
    "    while change >= 100:\n",
    "        peso_coins = peso_coins + 1\n",
    "        change = change - 100\n",
    "    while change >= 25:\n",
    "        quarter_coins = quarter_coins + 1\n",
    "        change = change - 25\n",
    "    while change >= 10:\n",
    "        dime_coins = dime_coins + 1\n",
    "        change = change - 10\n",
    "    while change >= 5:\n",
    "        nickel_coins = nickel_coins + 1\n",
    "        change = change - 5        \n",
    "    while change >= 1:\n",
    "        cent_coins = cent_coins + 1\n",
    "        change = change - 1\n",
    "\n",
    "    return \"1P:\" + str(peso_coins) + \"/\" + \"25C:\" + str(quarter_coins) + \"/\" + \"10C:\" + str(dime_coins) + \"/\" + \"5C:\" + str(nickel_coins) + \"/\" + \"1C:\" + str(cent_coins) "
   ]
  },
  {
   "cell_type": "code",
   "execution_count": 85,
   "id": "724cf2f4-338c-48e9-9ac8-d816a1064c12",
   "metadata": {},
   "outputs": [
    {
     "data": {
      "text/plain": [
       "'1P:1/25C:1/10C:1/5C:1/1C:3'"
      ]
     },
     "execution_count": 85,
     "metadata": {},
     "output_type": "execute_result"
    }
   ],
   "source": [
    "problem_4(143)"
   ]
  },
  {
   "cell_type": "code",
   "execution_count": 69,
   "id": "f4d22643-6bec-48c0-8396-644e1d6f9208",
   "metadata": {},
   "outputs": [],
   "source": [
    "#Problem 5\n",
    "#Invert Capitalization (3 points)\n",
    "#Write a function called problem_5 that takes 1 positional argument (string) message. The function should return a string whose uppercase letters are now lowercase and whose lowercase letters are now uppercase. Spaces should be left alone.\n",
    "\n",
    "#Example input/output:\n",
    "#problem_5(\"Test Me\") => \"tEST mE\"\n",
    "#problem_5(\"asSiGnmENt\") => \"ASsIgNMenT\"\n",
    "\n",
    "#For your convenience:\n",
    "\n",
    "#The message will only ever consist of spaces, lowercase letters, and uppercase letters.\n",
    "#Hint: Research on ord() and chr()."
   ]
  },
  {
   "cell_type": "code",
   "execution_count": 91,
   "id": "4c554b70-2790-4697-9c44-1b8451446601",
   "metadata": {},
   "outputs": [],
   "source": [
    "#Problem 5 Answer\n",
    "\n",
    "def problem_5(user_message):\n",
    "    return (user_message.swapcase())"
   ]
  },
  {
   "cell_type": "code",
   "execution_count": 94,
   "id": "61f86481-5f58-40ed-a580-1444f3867bdb",
   "metadata": {},
   "outputs": [
    {
     "data": {
      "text/plain": [
       "'MaNAgEMEnt enGINeeRInG'"
      ]
     },
     "execution_count": 94,
     "metadata": {},
     "output_type": "execute_result"
    }
   ],
   "source": [
    "problem_5(\"mAnaGemeNT ENginEEriNg\")"
   ]
  },
  {
   "cell_type": "code",
   "execution_count": null,
   "id": "649dc7a7-23c4-4fa3-ba07-11de2afcf602",
   "metadata": {},
   "outputs": [],
   "source": []
  }
 ],
 "metadata": {
  "kernelspec": {
   "display_name": "Python 3",
   "language": "python",
   "name": "python3"
  },
  "language_info": {
   "codemirror_mode": {
    "name": "ipython",
    "version": 3
   },
   "file_extension": ".py",
   "mimetype": "text/x-python",
   "name": "python",
   "nbconvert_exporter": "python",
   "pygments_lexer": "ipython3",
   "version": "3.8.8"
  }
 },
 "nbformat": 4,
 "nbformat_minor": 5
}
