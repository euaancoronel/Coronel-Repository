{
 "cells": [
  {
   "cell_type": "markdown",
   "id": "429fa9aa-0007-409b-95fb-2f06c03eee5a",
   "metadata": {},
   "source": [
    "# Assignment: Libraries\n",
    "\n",
    "This problem set aims to develop your ability to use non-standard libraries such as NumPy, Pandas, Matplotlib, and requests.  \n",
    "\n",
    "Please follow all instructions precisely."
   ]
  },
  {
   "cell_type": "markdown",
   "id": "a02a5721-90ea-491a-aafa-d8aec1619efe",
   "metadata": {},
   "source": [
    "## Prerequisite: Install libraries\n",
    "\n",
    "To do this assignment, you need to have a few libraries installed. You already know how to install libraries in a basic Python virtual environment. In Anaconda, it is even easier.  \n",
    "\n",
    "Install the following libraries:\n",
    "1. Pandas\n",
    "2. Requests\n",
    "3. Matplotlib\n",
    "\n",
    "Follow this tutorial to install external libraries for your Jupyter notebook using the Anaconda Navigator.  \n",
    "\n",
    "https://www.tutorialspoint.com/add-packages-to-anaconda-environment-in-python  \n",
    "\n",
    "Once you are done, run the following cell. If it does nothing (i.e., if it throws no errors), then you may proceed."
   ]
  },
  {
   "cell_type": "code",
   "execution_count": 14,
   "id": "433caeb7-bacc-4d80-ba37-b2e758d59398",
   "metadata": {},
   "outputs": [],
   "source": [
    "# NON-EDITABLE CODE CELL\n",
    "# You may run this cell, but do not edit it.\n",
    "\n",
    "import pandas as pd\n",
    "import numpy as np\n",
    "import matplotlib.pyplot as plt\n",
    "import requests"
   ]
  },
  {
   "cell_type": "markdown",
   "id": "1bb8c29f-c013-4dac-9f10-3f2bd16462af",
   "metadata": {},
   "source": [
    "## Note\n",
    "\n",
    "1. There is a good chance that you will have to look up how to do things using these libraries. This is fine. Just credit your sources appropriately.\n"
   ]
  },
  {
   "cell_type": "markdown",
   "id": "36275084-0c10-443a-9f00-d7110a635653",
   "metadata": {},
   "source": [
    "## Problem 1: Association Rules"
   ]
  },
  {
   "cell_type": "markdown",
   "id": "5c03e744-d021-4eea-9598-d3a70947e330",
   "metadata": {},
   "source": [
    "### Context\n",
    "\n",
    "You are a data consultant for a medium-sized grocery. Your job is to help the grocery's marketing and sales team identify the most frequent purchases of customers.  "
   ]
  },
  {
   "cell_type": "markdown",
   "id": "af8d606e-4ff7-4493-bcb9-c2a4b6844f98",
   "metadata": {},
   "source": [
    "### 1.1\n",
    "\n",
    "Read the file `sample order basket.csv` into a Pandas DataFrame called `df`."
   ]
  },
  {
   "cell_type": "code",
   "execution_count": 15,
   "id": "838a1ba9-095f-4c0c-b068-c05c936d30b2",
   "metadata": {},
   "outputs": [
    {
     "name": "stdout",
     "output_type": "stream",
     "text": [
      "      OrderNum Product\n",
      "0         1000    eggs\n",
      "1         1001   bread\n",
      "2         1002    eggs\n",
      "3         1002   bread\n",
      "4         1002   flour\n",
      "...        ...     ...\n",
      "1068      1496   bread\n",
      "1069      1497     jam\n",
      "1070      1498   bread\n",
      "1071      1499    eggs\n",
      "1072      1499   bread\n",
      "\n",
      "[1073 rows x 2 columns]\n"
     ]
    }
   ],
   "source": [
    "# CODE CELL\n",
    "\n",
    "# CODE START\n",
    "\n",
    "df = pd.read_csv ('sample order basket.csv')\n",
    "print(df)\n",
    "\n",
    "# CODE END"
   ]
  },
  {
   "cell_type": "markdown",
   "id": "599d6c3e-6530-4fc2-bb86-4911b745e7c8",
   "metadata": {},
   "source": [
    "### 1.2\n",
    "\n",
    "Create a \"binary table\" using a Pandas DataFrame. Save the DataFrame in a variable called `binary_table`.  \n",
    "\n",
    "The specifications of the binary table are as follows:\n",
    "1. The data in the binary table is based on the order log contained in `df`.\n",
    "2. The index values of the binary table are the unique order IDs contained in the sales logs. These are arranged in ascending numerical order. Format the values as `int64`.\n",
    "3. The column values of the binary table are the unique products contained in the sales logs. These are arranged in alphabetical order. Format the values as `object`.\n",
    "4. The values of the binary table are either 0 or 1. A value will be 1 if the respective product is present in the respective order, and it will be 0 if the respective product is not present in the respective order. So, for example: if Order 5 ordered an apple, then the cell at row 5, column apple will have the value 1, and every other cell at row 5 will have the value 0."
   ]
  },
  {
   "cell_type": "code",
   "execution_count": 16,
   "id": "fe8dcbd6-2f9c-4b45-a6f9-c13766399b82",
   "metadata": {},
   "outputs": [
    {
     "name": "stdout",
     "output_type": "stream",
     "text": [
      "          bread  cheese  eggs  flour  jam\n",
      "OrderNum                                 \n",
      "1000          0       0     1      0    0\n",
      "1001          1       0     0      0    0\n",
      "1002          1       0     1      1    0\n",
      "1003          1       0     1      0    1\n",
      "1004          0       0     1      0    0\n",
      "...         ...     ...   ...    ...  ...\n",
      "1495          1       0     1      1    0\n",
      "1496          1       1     1      0    0\n",
      "1497          0       0     0      0    1\n",
      "1498          1       0     0      0    0\n",
      "1499          1       0     1      0    0\n",
      "\n",
      "[500 rows x 5 columns]\n"
     ]
    }
   ],
   "source": [
    "# CODE CELL\n",
    "\n",
    "# CODE START\n",
    "binary_table = df.copy()\n",
    "binary_table[\"bread\"] = df[\"Product\"].str.contains(\"bread\")\n",
    "binary_table[\"cheese\"] = df[\"Product\"].str.contains(\"cheese\")\n",
    "binary_table[\"eggs\"] = df[\"Product\"].str.contains(\"eggs\")\n",
    "binary_table[\"flour\"] = df[\"Product\"].str.contains(\"flour\")\n",
    "binary_table[\"jam\"] = df[\"Product\"].str.contains(\"jam\")\n",
    "binary_table = binary_table.groupby([\"OrderNum\"]).sum()\n",
    "print(binary_table)\n",
    "# CODE END"
   ]
  },
  {
   "cell_type": "markdown",
   "id": "e9d6a095-deaa-4d7d-a787-6a5645bd484a",
   "metadata": {},
   "source": [
    "### 1.3\n",
    "\n",
    "Using `binary_table`, create a report. Store this report in a Pandas DataFrame called `report`.  \n",
    "\n",
    "The specifications of the report are as follows:\n",
    "1. The data in the report is based on the data in `binary_table`.\n",
    "2. The index values of `report` are simply the defaults (i.e., counting up from 0 to whatever number).\n",
    "3. `report` has two columns: `combination` and `count`. The `combination` column will contain tuples that describe an order combination (e.g., (\"apple\", \"eggplant\")). Format the `combination` column as `object`. The `count` column will contain an integer value describing the number of times that this combination appeared in the list of orders. Format the `count` column as `int64`.\n",
    "4. Sort `reports` by `count` in descending order. The order of combinations within each count bracket does not matter.\n",
    "\n",
    "You may use any standard library from Python 3.8 that you feel is necessary to complete this item. (This just means that you can use any standard Python library as long as it was in Python 3.8)."
   ]
  },
  {
   "cell_type": "code",
   "execution_count": 92,
   "id": "972ff7f8-4563-4bed-94dc-fda08996f0d7",
   "metadata": {},
   "outputs": [
    {
     "name": "stdout",
     "output_type": "stream",
     "text": [
      "                          combination  count\n",
      "0                            (bread,)     65\n",
      "1                        (bread, jam)     57\n",
      "2                       (bread, eggs)     47\n",
      "3                  (bread, eggs, jam)     46\n",
      "4                             (eggs,)     31\n",
      "5                              (jam,)     26\n",
      "6                (bread, eggs, flour)     21\n",
      "7                 (bread, flour, jam)     18\n",
      "8                         (eggs, jam)     17\n",
      "9               (bread, cheese, eggs)     17\n",
      "10                    (bread, cheese)     15\n",
      "11                     (bread, flour)     15\n",
      "12                          (cheese,)     13\n",
      "13          (bread, eggs, flour, jam)     13\n",
      "14               (bread, cheese, jam)     12\n",
      "15                 (eggs, flour, jam)     11\n",
      "16             (bread, cheese, flour)      9\n",
      "17                           (flour,)      9\n",
      "18                (cheese, eggs, jam)      8\n",
      "19                      (cheese, jam)      7\n",
      "20         (bread, cheese, eggs, jam)      7\n",
      "21                     (cheese, eggs)      6\n",
      "22         (cheese, eggs, flour, jam)      6\n",
      "23                       (flour, jam)      6\n",
      "24        (bread, cheese, flour, jam)      5\n",
      "25                      (eggs, flour)      5\n",
      "26       (bread, cheese, eggs, flour)      3\n",
      "27                    (cheese, flour)      2\n",
      "28  (bread, cheese, eggs, flour, jam)      2\n",
      "29              (cheese, eggs, flour)      1\n"
     ]
    }
   ],
   "source": [
    "# CODE CELL\n",
    "\n",
    "# CODE START\n",
    "\n",
    "copytable=binary_table.copy()\n",
    "report = pd.DataFrame(copytable,columns=[\"combination\"])\n",
    "\n",
    "for i in copytable:\n",
    "    copytable.loc[copytable[i]==1,[i]]=i\n",
    "def tuples(n):\n",
    "    input=[]\n",
    "    for i in n:\n",
    "        if i ==0:\n",
    "            continue\n",
    "        else: \n",
    "            input+=[i]\n",
    "    n = tuple(input)\n",
    "    return n\n",
    "\n",
    "report[\"combination\"] = copytable[[\"bread\",\"cheese\",\"eggs\",\"flour\",\"jam\"]].apply(tuples, axis=1)\n",
    "report=report.reset_index()\n",
    "report=report.groupby([\"combination\"]).count()\n",
    "report[\"count\"] = report[\"OrderNum\"]\n",
    "report=report.drop([\"OrderNum\"], axis = 1)\n",
    "report=report.sort_values(by = \"count\",ascending = False)\n",
    "report=report.reset_index()\n",
    "print(report)\n",
    "# CODE END"
   ]
  },
  {
   "cell_type": "markdown",
   "id": "b378e1e5-5167-496c-b09b-b561066f3823",
   "metadata": {},
   "source": [
    "## Problem 2: A Plot of the International Space Station's Location"
   ]
  },
  {
   "cell_type": "markdown",
   "id": "2a4bd731-165c-4bb7-b88f-41fd795f1bed",
   "metadata": {},
   "source": [
    "We will only be checking the final output of this problem. \n",
    "\n",
    "### Context\n",
    "\n",
    "You are a budding data scientist aiming to try your new tools on real-world data. As a pet project, you have decided that you want to try plotting the latitude and longitude positions of the International Space Station on a chart.  \n",
    "\n",
    "An \"application programming interface\" (API) is an interface (i.e., a point of connection/use) that a program offers to other pieces of software. APIs are how modern computer programs interact. To massively oversimplify the concept, modern applications send and receive HTTP requests and JSON-formatted data to talk to each other.  \n",
    "\n",
    "We will be using the ISS position data API hosted at http://open-notify.org/Open-Notify-API/ISS-Location-Now/ for this item.  \n",
    "\n",
    "You are expected to read the documentation of this API for this item."
   ]
  },
  {
   "cell_type": "markdown",
   "id": "208aa074-94f0-42a1-899b-06754d840497",
   "metadata": {},
   "source": [
    "### 2.1\n",
    "\n",
    "Use the `requests` library and the `time` library to collect position data of the ISS at intervals of 10 seconds over the course of 30 minutes by sending GET requests to the ISS API endpoint.  \n",
    "\n",
    "The specifications of this problem are as follows:\n",
    "1. Send a GET request to the ISS API endpoint once every 10 seconds for 30 minutes. \n",
    "2. Each time you send a GET request, append the returned data to a list called `iss_data`.\n",
    "3. Save all the data to a file called `iss-data.json` so that you do not lose it. You may do this every time you get a request if you wish.\n",
    "4. Do not modify the returned data per GET request.  \n",
    "5. The final file `iss-data.json` should contain roughly 180 data points.\n",
    "\n",
    "We will not be strict about the time intervals. We will only look at the chart that you produce from your data."
   ]
  },
  {
   "cell_type": "code",
   "execution_count": 83,
   "id": "2a56d08a-612c-41f6-b60e-7f5b87c3f406",
   "metadata": {},
   "outputs": [],
   "source": [
    "# CODE CELL\n",
    "\n",
    "# CODE START\n",
    "import time\n",
    "import json\n",
    "import requests \n",
    "\n",
    "with open('iss-data.json','w') as file:\n",
    "    data = []\n",
    "    entry_number = 0\n",
    "    while entry_number < 180:\n",
    "        website_data = requests.get(url = \"http://api.open-notify.org/iss-now.json\")\n",
    "        website_data.json()\n",
    "        data += [website_data.json()]\n",
    "        time.sleep(10)\n",
    "        entry_number += 1\n",
    "    data\n",
    "    json.dump(data, file)\n",
    "    \n",
    "# CODE END"
   ]
  },
  {
   "cell_type": "markdown",
   "id": "709b3cd1-5b79-4ba7-89c9-dab63d2f8b1d",
   "metadata": {},
   "source": [
    "### 2.2\n",
    "\n",
    "Using the data you gathered and stored in `iss-data.json`, make a `matplotlib` plot of the location data.  \n",
    "\n",
    "The specifications of this problem are as follows: \n",
    "1. Use the longitude and latitude data contained in `iss-data.json` as your data.\n",
    "2. Plot this data on a `matplotlib` plot that appropriately visualizes the data. It is up to you what specific plot you want to use as long as we, the human readers of your report, understand the message of your plot.\n",
    "3. Use latitude as the X axis and longitude as the Y axis.  \n",
    "4. VERY IMPORTANT: Make sure that the chart displays in your Jupyter notebook before you submit.  \n",
    "\n",
    "We will only check the chart. We do not care how you make it display as long as you follow the specifications."
   ]
  },
  {
   "cell_type": "code",
   "execution_count": 89,
   "id": "2879d731-8eee-47bf-8cb6-d97daf867acf",
   "metadata": {},
   "outputs": [
    {
     "data": {
      "image/png": "[encoded data removed]",
      "text/plain": [
       "<Figure size 432x288 with 1 Axes>"
      ]
     },
     "metadata": {
      "needs_background": "light"
     },
     "output_type": "display_data"
    }
   ],
   "source": [
    "# CODE CELL\n",
    "\n",
    "# CODE START\n",
    "lat=[]\n",
    "long=[]\n",
    "for i in data:\n",
    "    lat+=[float(i['iss_position']['latitude'])]\n",
    "    long+=[float(i['iss_position']['longitude'])]\n",
    "plt.title('Title')\n",
    "plt.plot(lat,long,'g')\n",
    "plt.xlabel('latitude')\n",
    "plt.ylabel('longitude')\n",
    "plt.show()\n",
    "# CODE END"
   ]
  },
  {
   "cell_type": "code",
   "execution_count": null,
   "id": "f81a420a-9d9b-440f-995c-eaf44a6fb2f1",
   "metadata": {},
   "outputs": [],
   "source": []
  },
  {
   "cell_type": "code",
   "execution_count": null,
   "id": "a0b97a07-5235-4557-82f1-214a2fb359aa",
   "metadata": {},
   "outputs": [],
   "source": []
  }
 ],
 "metadata": {
  "kernelspec": {
   "display_name": "Python 3",
   "language": "python",
   "name": "python3"
  },
  "language_info": {
   "codemirror_mode": {
    "name": "ipython",
    "version": 3
   },
   "file_extension": ".py",
   "mimetype": "text/x-python",
   "name": "python",
   "nbconvert_exporter": "python",
   "pygments_lexer": "ipython3",
   "version": "3.8.8"
  }
 },
 "nbformat": 4,
 "nbformat_minor": 5
}
