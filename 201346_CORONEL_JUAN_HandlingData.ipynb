{
 "cells": [
  {
   "cell_type": "markdown",
   "id": "0fcdd266-d0b8-46b9-a6b2-0b45d06599b2",
   "metadata": {},
   "source": [
    "## Problem 1"
   ]
  },
  {
   "cell_type": "code",
   "execution_count": 599,
   "id": "53ca8f8b-a349-465d-a6af-d4cd65657489",
   "metadata": {},
   "outputs": [],
   "source": [
    "social_graph = {\n",
    "    \"@bongolpoc\":{\"first_name\":\"Joselito\",\n",
    "                  \"last_name\":\"Olpoc\",\n",
    "                  \"following\":[\n",
    "                  ]\n",
    "    },\n",
    "    \"@joaquin\":  {\"first_name\":\"Joaquin\",\n",
    "                  \"last_name\":\"Gonzales\",\n",
    "                  \"following\":[\n",
    "                      \"@chums\",\"@jobenilagan\"\n",
    "                  ]\n",
    "    },\n",
    "    \"@chums\" : {\"first_name\":\"Matthew\",\n",
    "                \"last_name\":\"Uy\",\n",
    "                \"following\":[\n",
    "                    \"@bongolpoc\",\"@miketan\",\"@rudyang\",\"@joeilagan\"\n",
    "                ]\n",
    "    },\n",
    "    \"@jobenilagan\":{\"first_name\":\"Joben\",\n",
    "                   \"last_name\":\"Ilagan\",\n",
    "                   \"following\":[\n",
    "                    \"@eeebeee\",\"@joeilagan\",\"@chums\",\"@joaquin\"\n",
    "                   ]\n",
    "    },\n",
    "    \"@joeilagan\":{\"first_name\":\"Joe\",\n",
    "                  \"last_name\":\"Ilagan\",\n",
    "                  \"following\":[\n",
    "                    \"@eeebeee\",\"@jobenilagan\",\"@chums\"\n",
    "                  ]\n",
    "    },\n",
    "    \"@eeebeee\":  {\"first_name\":\"Elizabeth\",\n",
    "                  \"last_name\":\"Ilagan\",\n",
    "                  \"following\":[\n",
    "                    \"@jobenilagan\",\"@joeilagan\"\n",
    "                  ]\n",
    "    },\n",
    "}"
   ]
  },
  {
   "cell_type": "code",
   "execution_count": 688,
   "id": "be425904-52bc-4a1f-b281-4ff9c57b6f6b",
   "metadata": {},
   "outputs": [],
   "source": [
    "def relationship_status(from_member, to_member, social_graph):\n",
    "\n",
    "    follow_1 = (to_member in social_graph[from_member]['following'])\n",
    "    follow_2 = (from_member in social_graph[to_member]['following'])\n",
    "        \n",
    "    if str(follow_1) == \"True\":\n",
    "        if str(follow_2) == \"True\":\n",
    "            return \"friends\"\n",
    "        elif str(follow_2) == \"False\":\n",
    "            return \"follower\"\n",
    "    elif str(follow_1) == \"False\":\n",
    "        if str(follow_2) == \"True\":\n",
    "            return \"followed by\"\n",
    "        elif str(follow_2) == \"False\":\n",
    "            return None"
   ]
  },
  {
   "cell_type": "code",
   "execution_count": 690,
   "id": "4ac16417-c858-471b-a868-aa6544196458",
   "metadata": {},
   "outputs": [],
   "source": [
    "relationship_status(\"@jobenilagan\",\"@bongolpoc\",social_graph)"
   ]
  },
  {
   "cell_type": "markdown",
   "id": "376b9f35-0333-4a41-959a-e6ed2dfa695f",
   "metadata": {},
   "source": [
    "## Problem 2"
   ]
  },
  {
   "cell_type": "code",
   "execution_count": 472,
   "id": "9a60a264-461a-4761-a64b-2d70d045e25d",
   "metadata": {},
   "outputs": [],
   "source": [
    "board1 = [\n",
    "['X','X','O'],\n",
    "['O','X','O'],\n",
    "['O','','X'],\n",
    "]\n",
    "\n",
    "board2 = [\n",
    "['X','X','O'],\n",
    "['O','X','O'],\n",
    "['','O','X'],\n",
    "]\n",
    "\n",
    "board3 = [\n",
    "['O','X','O'],\n",
    "['','O','X'],\n",
    "['X','X','O'],\n",
    "]\n",
    "\n",
    "board4 = [\n",
    "['X','X','X'],\n",
    "['O','X','O'],\n",
    "['O','','O'],\n",
    "]\n",
    "\n",
    "board5 = [\n",
    "['X','X','O'],\n",
    "['O','X','O'],\n",
    "['X','','O'],\n",
    "]\n",
    "\n",
    "board6 = [\n",
    "['X','X','O'],\n",
    "['O','X','O'],\n",
    "['X','',''],\n",
    "]"
   ]
  },
  {
   "cell_type": "code",
   "execution_count": 718,
   "id": "dfe94d61-4a48-43cc-8737-54a276a99d85",
   "metadata": {},
   "outputs": [],
   "source": [
    "def tic_tac_toe(board):\n",
    "    \n",
    "    horizontal_line = [n for n in board]\n",
    "    vertical_line = [n for n in zip(*board)]\n",
    "    diagonal_1 = [board[(len(board)-1)-y][y] for y, z in enumerate(board)]\n",
    "    diagonal_2 = [board[y][y] for y, z in enumerate(board)]\n",
    "    \n",
    "    if any(i == tuple([\"X\"]*len(board)) for i in vertical_line) or any(i == [\"X\"]*len(board) for i in horizontal_line) or all(i == \"X\" for i in diagonal_1) or all(i == \"X\" for i in diagonal_2):\n",
    "        return \"X\"\n",
    "    elif any(i == tuple([\"O\"]*len(board)) for i in vertical_line) or any(i == [\"O\"]*len(board) for i in horizontal_line) or all(i == \"O\" for i in diagonal_1) or all(i == \"O\" for i in diagonal_2):\n",
    "        return \"O\"\n",
    "    else:\n",
    "        return None"
   ]
  },
  {
   "cell_type": "code",
   "execution_count": 719,
   "id": "ee1782e7-4a7a-4a17-ae3d-0ec6fb102747",
   "metadata": {},
   "outputs": [],
   "source": [
    "tic_tac_toe(board6)"
   ]
  },
  {
   "cell_type": "markdown",
   "id": "fad8d57d-39b3-401d-a08e-1963ca6d8858",
   "metadata": {},
   "source": [
    "## Problem 3\n",
    "\n"
   ]
  },
  {
   "cell_type": "code",
   "execution_count": 723,
   "id": "bb4b2f8f-2df9-43a5-a8b6-e00b74e32b0f",
   "metadata": {},
   "outputs": [],
   "source": [
    "legs = {\n",
    "     (\"upd\",\"admu\"):{\n",
    "         \"travel_time_mins\":10\n",
    "     },\n",
    "     (\"admu\",\"dlsu\"):{\n",
    "         \"travel_time_mins\":35\n",
    "     },\n",
    "     (\"dlsu\",\"upd\"):{\n",
    "         \"travel_time_mins\":55\n",
    "     }\n",
    "}"
   ]
  },
  {
   "cell_type": "code",
   "execution_count": 730,
   "id": "6f4eeb78-e485-4594-b48d-2a5fda25026f",
   "metadata": {},
   "outputs": [],
   "source": [
    "def eta(legs, source, destination):\n",
    "    travel_time = 0\n",
    "    \n",
    "    while source != destination:\n",
    "        for n in legs.keys():\n",
    "                if n[0] == source:\n",
    "                    travel_time += legs[n][\"travel_time_mins\"]\n",
    "                    source = n[1]\n",
    "                    break\n",
    "                    \n",
    "    return travel_time"
   ]
  },
  {
   "cell_type": "code",
   "execution_count": 731,
   "id": "663143d2-33b2-4db7-a932-cd6ab8e8ea10",
   "metadata": {},
   "outputs": [
    {
     "data": {
      "text/plain": [
       "65"
      ]
     },
     "execution_count": 731,
     "metadata": {},
     "output_type": "execute_result"
    }
   ],
   "source": [
    "eta(legs, \"dlsu\", \"admu\")"
   ]
  },
  {
   "cell_type": "code",
   "execution_count": null,
   "id": "36e28df3-c73a-49d6-973e-93bde5021a08",
   "metadata": {},
   "outputs": [],
   "source": []
  }
 ],
 "metadata": {
  "kernelspec": {
   "display_name": "Python 3",
   "language": "python",
   "name": "python3"
  },
  "language_info": {
   "codemirror_mode": {
    "name": "ipython",
    "version": 3
   },
   "file_extension": ".py",
   "mimetype": "text/x-python",
   "name": "python",
   "nbconvert_exporter": "python",
   "pygments_lexer": "ipython3",
   "version": "3.8.8"
  }
 },
 "nbformat": 4,
 "nbformat_minor": 5
}
