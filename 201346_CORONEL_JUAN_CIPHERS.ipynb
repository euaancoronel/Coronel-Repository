{
 "cells": [
  {
   "cell_type": "code",
   "execution_count": 1,
   "id": "a44403af-5446-4ba7-9f00-19687dfed1b3",
   "metadata": {},
   "outputs": [],
   "source": [
    "#Problem 1\n",
    "#Caesar Cipher (6 points)\n",
    "#A cipher is a way of disguising a message by encoding it.\n",
    "\n",
    "#One of the simplest ciphers is a \"shift cipher\" known as the Caesar cipher. The way it works is very simple.\n",
    "\n",
    "#Start with a message, such as \"ATTACK AT DAWN\".\n",
    "#Choose a number, such as 3.\n",
    "#Shift all letters in the message to the right by the chosen number. In this case, shifting all letters in \"ATTACK AT DAWN\" by 3 results in the message \"DWWDFN DW GDZQ\".\n",
    "#Write a function called problem_1 that takes two positional arguments message and shift. It should apply the Caesar cipher to a message and return the result.\n",
    "\n",
    "#Example input/output:\n",
    "#problem_1(\"ATTACK AT DAWN\", 3) => \"DWWDFN DW GDZQ\"\n",
    "#problem_1(\"MEAMORE\", 42) => \"CUQCEHU\"\n",
    "\n",
    "#For full credit:\n",
    "\n",
    "#The function must ignore spaces.\n",
    "#The function must be able to \"wrap around\" if it reaches the end of the alphabet. (e.g., shifting Z by 1 should result in A, shifting Z by 2 should result in B, etc.)\n",
    "#For your convenience:\n",
    "\n",
    "#Assume that all letters will be uppercase.\n",
    "#Be aware of the chr() function. chr() takes an Unicode code number and returns the character associated with that number (e.g., chr(65) => \"A\").\n",
    "#Be aware of the ord() function. ord() takes a Unicode character and returns the Unicode code associated with that character (e.g., ord(\"A\") => 65).\n",
    "#Be aware that the Unicode codes of the uppercase English alphabet are Unicode codes 65 to 90, where 65 = A, 66 = B, ..., 90 = Z.\n",
    "#The shift will always be a positive integer."
   ]
  },
  {
   "cell_type": "code",
   "execution_count": 287,
   "id": "fda9ff82-3697-4be6-9e5d-a52812a6f834",
   "metadata": {},
   "outputs": [],
   "source": [
    "def problem_1(message, shift):\n",
    "    final_message = \"\"\n",
    "    for i in message:\n",
    "        if i == \" \":\n",
    "            final_message += \" \"\n",
    "        else:\n",
    "            shifted_text = 65 + ((ord(i) - 65 + shift) % 26) \n",
    "            final_message = final_message + chr(shifted_text)\n",
    "    return final_message"
   ]
  },
  {
   "cell_type": "code",
   "execution_count": 728,
   "id": "49296330-e3dc-4ce9-b2fc-1972e46cb57b",
   "metadata": {},
   "outputs": [
    {
     "data": {
      "text/plain": [
       "'CUQCEHU'"
      ]
     },
     "execution_count": 728,
     "metadata": {},
     "output_type": "execute_result"
    }
   ],
   "source": [
    "problem_1(\"MEAMORE\", 42)"
   ]
  },
  {
   "cell_type": "code",
   "execution_count": null,
   "id": "cbe931b5-40b4-4d5f-b8a2-5215fd8b04dc",
   "metadata": {},
   "outputs": [],
   "source": [
    "#Problem 2\n",
    "#Scytale Cipher (8 points)\n",
    "#Another ancient cipher (of questionable effectiveness) is the scytale-based cipher. A scytale is a cylinder around which you can wrap a long strip of parchment that contained a string of apparent gibberish. The parchment, when read using the scytale, would reveal a message due to every nth letter now appearing next to each other, revealing a proper message.\n",
    "\n",
    "#Encoding\n",
    "\n",
    "#Take a message to be encoded and a \"shift\" number. For this example, we will use \"INFORMATION_AGE\" as the message and 3 as the shift.\n",
    "#Check if the length of the message is a multiple of the shift. If it is not, add additional underscores to the end of the message until it is. In this example, \"INFORMATION_AGE\" is already a multiple of 3, so we will leave it alone.\n",
    "#This is the tricky part. Construct the encoded message. For each index i in the encoded message, use the character at the index (i // shift) + (len(message) // shift) * (i % shift) of the raw message. If this number doesn't make sense, you can play around with the cipher at https://dencode.com/en/cipher/scytale to try to understand it.\n",
    "#Return the encoded message. In this case, the output should be \"IMNNA_FTAOIGROE\".\n",
    "#Example input/output:\n",
    "#problem_2(\"INFORMATION_AGE\", 3) => \"IMNNA_FTAOIGROE\"\n",
    "#problem_2(\"INFORMATION_AGE\", 4) => \"IRIANMOGFANEOT__\"\n",
    "#problem_2(\"ALGORITHMS_ARE_IMPORTANT\", 8) => \"AOTSRIOALRH_EMRNGIMA_PTT\"\n",
    "\n",
    "#Write a function called problem_2 that takes two positional arguments message and shift. It should apply this scytale-style cipher to a message and return the encoded message.\n",
    "\n",
    "#For your convenience:\n",
    "\n",
    "#A message will only ever contain capital letters and underscores. (Underscores will be used to represent spaces.)\n",
    "#The shift will always be a positive integer, and it will never exceed the length of the message."
   ]
  },
  {
   "cell_type": "code",
   "execution_count": 638,
   "id": "0bb09cee-a5fc-49f3-8c65-3e2b61f89f93",
   "metadata": {},
   "outputs": [],
   "source": [
    "def problem_2(message, shift):\n",
    "    final_message = \"\"\n",
    "    string_position = 0\n",
    "    while len(message) % shift > 0:\n",
    "        message += \"_\"\n",
    "    for i in message:\n",
    "            final_message += message[(string_position // shift) + (len(message) // shift) * (string_position % shift)]    \n",
    "            string_position += 1\n",
    "    return final_message"
   ]
  },
  {
   "cell_type": "code",
   "execution_count": 727,
   "id": "307482ce-fd88-4ab2-9456-b3429e24e212",
   "metadata": {},
   "outputs": [
    {
     "data": {
      "text/plain": [
       "'AOTSRIOALRH_EMRNGIMA_PTT'"
      ]
     },
     "execution_count": 727,
     "metadata": {},
     "output_type": "execute_result"
    }
   ],
   "source": [
    "problem_2(\"ALGORITHMS_ARE_IMPORTANT\", 8)"
   ]
  },
  {
   "cell_type": "code",
   "execution_count": 161,
   "id": "9e140a94-e391-48df-ad5b-fc8349a6ffe7",
   "metadata": {},
   "outputs": [],
   "source": [
    "#Problem 3\n",
    "#Vigenere Cipher (8 points)\n",
    "#The Caesar cipher is very easy to crack. The Vigenere cipher is an extension to the Caesar cipher that makes it a little more difficult to crack. There are many variations of this cipher, but for the purposes of this exercise, this is how it works:\n",
    "\n",
    "#Start with a message, such as \"MY MESSAGE\".\n",
    "#Choose a keyphrase, such as \"KEY\".\n",
    "#Repeat the keyphrase until it matches the length of the message. In this case, extend \"KEY\" to \"KEYKEYKEYK\". This should yield an implicit 1-1 mapping between letters in the message to letters in the key.\n",
    "#Convert all letters in the key to their number values (in this particular case, A => 0, Z => 25, etc.). Shift the letters in the message to the right by the number value of the respective letter in the extended key. In this case, applying the cipher yields the encrypted message \"WC WIQCEEO\".\n",
    "#Write a function called problem_3 that takes two positional arguments message and key. It should apply the Vigenere cipher to the message and return the encoded message.\n",
    "\n",
    "#Example input/output:\n",
    "#problem_3(\"MEAMORE\", \"VINCE\") => \"HMNOSMM\"\n",
    "#problem_3(\"FOOBAR IS FUBAR\", \"BUZZ\") => \"GINABL HT ETCUQ\"\n",
    "\n",
    "#For full credit:\n",
    "\n",
    "#Spaces in the message count as characters and thus count as additional message length for the purposes of key extension, but they are to be ignored when applying the cipher to the message.\n",
    "#For your convenience:\n",
    "\n",
    "#You are allowed to call your Caesar cipher function.\n",
    "#Assume that all letters will be uppercase.\n",
    "#Assume that the key will always be the same length or shorter than the message. The key will only ever have uppercase letters (i.e., no spaces).\n",
    "#Assume that the message will only ever consist of uppercase letters and spaces."
   ]
  },
  {
   "cell_type": "code",
   "execution_count": 336,
   "id": "5e43e08b-d43f-4749-ae0f-737f6cc06749",
   "metadata": {},
   "outputs": [],
   "source": [
    "def problem_3(message, key):\n",
    "    extended_key = \"\"\n",
    "    final_message = \"\"\n",
    "    message_position = 0\n",
    "    key_position = 0 \n",
    "    for i in message:\n",
    "        if message_position < len(key)-1:\n",
    "            extended_key += key[message_position]\n",
    "            message_position += 1\n",
    "        else:\n",
    "            extended_key += key[message_position]\n",
    "            message_position = 0\n",
    "    for i in message:\n",
    "        final_message += problem_1(i,ord(extended_key[key_position])-65)\n",
    "        key_position += 1\n",
    "    return(final_message)"
   ]
  },
  {
   "cell_type": "code",
   "execution_count": 726,
   "id": "60060488-cbfc-4f8a-9e61-91d94b022fd6",
   "metadata": {},
   "outputs": [
    {
     "data": {
      "text/plain": [
       "'HMNOSMM'"
      ]
     },
     "execution_count": 726,
     "metadata": {},
     "output_type": "execute_result"
    }
   ],
   "source": [
    "problem_3(\"MEAMORE\", \"VINCE\")"
   ]
  },
  {
   "cell_type": "code",
   "execution_count": null,
   "id": "97371475-0536-44f2-a3a0-8b67b05e98f8",
   "metadata": {},
   "outputs": [],
   "source": [
    "#Problem 4\n",
    "#Scytale De-cipher (8 points)\n",
    "#There is no brief for this number.\n",
    "\n",
    "#Write a function called problem_4 that takes two positional arguments message and shift. It should decipher a message that is encoded in the scytale-style cipher from Problem 2 and return the decoded message.\n",
    "\n",
    "#Example input/output:\n",
    "#problem_4(\"IMNNA_FTAOIGROE\", 3) => \"INFORMATION_AGE\"\n",
    "#problem_4(\"AOTSRIOALRH_EMRNGIMA_PTT\", 8) => \"ALGORITHMS_ARE_IMPORTANT\"\n",
    "#problem_4(\"IRIANMOGFANEOT__\", 4) => \"INFORMATION_AGE_\"\n",
    "\n",
    "#For your convenience:\n",
    "\n",
    "#Do not trim the added underscores at the end of the message."
   ]
  },
  {
   "cell_type": "code",
   "execution_count": 716,
   "id": "f5e08dbf-9e5e-443f-aa45-15df996ef7bd",
   "metadata": {},
   "outputs": [],
   "source": [
    "def problem_4(message, shift):\n",
    "    final_message = \"\"\n",
    "    message_position = 0\n",
    "    loop_counter = 0\n",
    "    while len(final_message) < len(message):\n",
    "            for i in message:\n",
    "                if (loop_counter + message_position) < len(message):\n",
    "                    final_message += message[loop_counter+message_position]\n",
    "                    message_position += shift\n",
    "                else:\n",
    "                    message_position = 0\n",
    "                    loop_counter += 1\n",
    "                    final_message += message[loop_counter+message_position] \n",
    "                    message_position += shift\n",
    "    return final_message"
   ]
  },
  {
   "cell_type": "code",
   "execution_count": 730,
   "id": "f6717367-21f4-4014-84d0-09ccd1823786",
   "metadata": {},
   "outputs": [
    {
     "data": {
      "text/plain": [
       "'ALGORITHMS_ARE_IMPORTANT'"
      ]
     },
     "execution_count": 730,
     "metadata": {},
     "output_type": "execute_result"
    }
   ],
   "source": [
    "problem_4(\"AOTSRIOALRH_EMRNGIMA_PTT\", 8)"
   ]
  },
  {
   "cell_type": "code",
   "execution_count": null,
   "id": "37c3e169-9e3b-4c5f-b578-4bb71779d5cc",
   "metadata": {},
   "outputs": [],
   "source": []
  }
 ],
 "metadata": {
  "kernelspec": {
   "display_name": "Python 3",
   "language": "python",
   "name": "python3"
  },
  "language_info": {
   "codemirror_mode": {
    "name": "ipython",
    "version": 3
   },
   "file_extension": ".py",
   "mimetype": "text/x-python",
   "name": "python",
   "nbconvert_exporter": "python",
   "pygments_lexer": "ipython3",
   "version": "3.8.8"
  }
 },
 "nbformat": 4,
 "nbformat_minor": 5
}
